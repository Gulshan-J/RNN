{
 "cells": [
  {
   "cell_type": "markdown",
   "metadata": {},
   "source": [
    "# RNN text generation using LSTM"
   ]
  },
  {
   "cell_type": "code",
   "execution_count": 1,
   "metadata": {},
   "outputs": [],
   "source": [
    "import torch\n",
    "import numpy as np \n",
    "import torch.nn as nn\n",
    "from torch.nn.utils import clip_grad_norm\n",
    "import wordninja\n",
    "path='/mnt/disk1/Gulshan/rnn/guitar rnn.txt'"
   ]
  },
  {
   "cell_type": "code",
   "execution_count": 2,
   "metadata": {},
   "outputs": [],
   "source": [
    "class dictionary:\n",
    "    def __init__(self):\n",
    "        self.word2idx={}\n",
    "        self.idx2word={}\n",
    "        self.counter=0\n",
    "    def create_word(self,word):\n",
    "        if word not in self.word2idx:\n",
    "            self.word2idx[word]=self.counter\n",
    "            self.idx2word[self.counter]=word\n",
    "            self.counter+=1\n",
    "    def __len__(self):\n",
    "        return len(self.word2idx)"
   ]
  },
  {
   "cell_type": "code",
   "execution_count": 3,
   "metadata": {},
   "outputs": [],
   "source": [
    "class preprocess(dictionary):\n",
    "    def get_data(self,path,batch_size=10):\n",
    "        with open(path,'r') as f:\n",
    "            token=0\n",
    "            for line in f:\n",
    "                words=line.split()+['<eos>']\n",
    "                token+=len(words)\n",
    "                for word in words:\n",
    "                    self.create_word(word)\n",
    "        rep_tensor = torch.LongTensor(token)\n",
    "        index=0\n",
    "        with open(path,'r') as f:\n",
    "            for line in f:\n",
    "                words=line.split()+['<eos>']\n",
    "                for word in words:\n",
    "                        rep_tensor[index] = self.word2idx[word]\n",
    "                        index += 1\n",
    "        num_batch=rep_tensor.shape[0]//batch_size\n",
    "        rep_tensor=rep_tensor[:num_batch*batch_size] #Remove the remainder (Filter out the ones that don't fit) remove remaining\n",
    "        rep_tensor=rep_tensor.view(batch_size,-1)\n",
    "        return rep_tensor\n",
    "        "
   ]
  },
  {
   "cell_type": "code",
   "execution_count": 4,
   "metadata": {},
   "outputs": [],
   "source": [
    "# rep_tensor = torch.LongTensor(10)\n",
    "# rep_tensor\n",
    "# rep_tensor[9]=1\n",
    "# b=2\n",
    "# n=rep_tensor.shape[0]//b\n",
    "# print(rep_tensor,rep_tensor.shape)\n",
    "# rep_tensor=rep_tensor[:b*n]\n",
    "# print(rep_tensor,rep_tensor.shape)\n",
    "# rep_tensor=rep_tensor.view(b,-1)\n"
   ]
  },
  {
   "cell_type": "code",
   "execution_count": 5,
   "metadata": {},
   "outputs": [],
   "source": [
    "corpus=preprocess()\n",
    "rep_tensor=corpus.get_data('/mnt/disk1/Gulshan/rnn/guitar rnn.txt')"
   ]
  },
  {
   "cell_type": "code",
   "execution_count": 6,
   "metadata": {},
   "outputs": [
    {
     "data": {
      "text/plain": [
       "torch.Size([10, 41])"
      ]
     },
     "execution_count": 6,
     "metadata": {},
     "output_type": "execute_result"
    }
   ],
   "source": [
    "rep_tensor.shape"
   ]
  },
  {
   "cell_type": "code",
   "execution_count": 7,
   "metadata": {},
   "outputs": [
    {
     "data": {
      "text/plain": [
       "231"
      ]
     },
     "execution_count": 7,
     "metadata": {},
     "output_type": "execute_result"
    }
   ],
   "source": [
    "embed_size=120\n",
    "hidden_size=1000\n",
    "num_layer=1\n",
    "epochs=50\n",
    "batch_size=10\n",
    "l_r=0.001\n",
    "timestep=25\n",
    "vocab_size=len(corpus.word2idx)\n",
    "vocab_size"
   ]
  },
  {
   "cell_type": "code",
   "execution_count": 8,
   "metadata": {},
   "outputs": [],
   "source": [
    "class textgenerator(nn.Module):\n",
    "    def __init__(self,vocab_size,embed_size,hidden_size,num_layer):\n",
    "        super(textgenerator,self).__init__()\n",
    "        self.embed=nn.Embedding(vocab_size,embed_size)\n",
    "        self.lstm=nn.LSTM(embed_size,hidden_size,num_layer,batch_first=True)\n",
    "        self.linear=nn.Linear(hidden_size,vocab_size)\n",
    "    \n",
    "    def forward(self,x,h):\n",
    "        x=self.embed(x) # perform word embedding\n",
    "        # print(x.shape)\n",
    "        out,(h,c)=self.lstm(x,h)\n",
    "        # print(out.shape)\n",
    "        out=out.reshape(out.size(0)*out.size(1),out.size(2)) #reshape accor.. (batch_size*timestep,hidden) for linear fc layer\n",
    "        # print(out.shape)\n",
    "        out=self.linear(out)\n",
    "        # print(out.shape)\n",
    "        \n",
    "        return out,(h,c)\n",
    "        "
   ]
  },
  {
   "cell_type": "code",
   "execution_count": 9,
   "metadata": {},
   "outputs": [],
   "source": [
    "model=textgenerator(vocab_size,embed_size,hidden_size,num_layer)"
   ]
  },
  {
   "cell_type": "code",
   "execution_count": 10,
   "metadata": {},
   "outputs": [],
   "source": [
    "# input=torch.randn(1,1).long()\n",
    "# print(input.shape)\n",
    "# states=(torch.zeros(num_layer,1,hidden_size),\n",
    "#             torch.zeros(num_layer,1,hidden_size))\n",
    "# x=model(input,states)"
   ]
  },
  {
   "cell_type": "code",
   "execution_count": 11,
   "metadata": {},
   "outputs": [],
   "source": [
    "loss_fn=nn.CrossEntropyLoss()\n",
    "optim=torch.optim.Adam(model.parameters(),lr=l_r)\n",
    "# rep_tensor.shape"
   ]
  },
  {
   "cell_type": "code",
   "execution_count": 12,
   "metadata": {},
   "outputs": [
    {
     "name": "stdout",
     "output_type": "stream",
     "text": [
      "torch.Size([10, 25])\n"
     ]
    },
    {
     "name": "stderr",
     "output_type": "stream",
     "text": [
      "/tmp/ipykernel_3809584/2606486995.py:21: UserWarning: torch.nn.utils.clip_grad_norm is now deprecated in favor of torch.nn.utils.clip_grad_norm_.\n",
      "  clip_grad_norm(model.parameters(),0.5)\n"
     ]
    },
    {
     "name": "stdout",
     "output_type": "stream",
     "text": [
      "torch.Size([10, 25])\n",
      "torch.Size([10, 25])\n",
      "torch.Size([10, 25])\n",
      "torch.Size([10, 25])\n",
      "torch.Size([10, 25])\n",
      "torch.Size([10, 25])\n",
      "torch.Size([10, 25])\n",
      "torch.Size([10, 25])\n",
      "torch.Size([10, 25])\n",
      "torch.Size([10, 25])\n",
      "torch.Size([10, 25])\n",
      "torch.Size([10, 25])\n",
      "torch.Size([10, 25])\n",
      "torch.Size([10, 25])\n",
      "torch.Size([10, 25])\n",
      "torch.Size([10, 25])\n",
      "torch.Size([10, 25])\n",
      "torch.Size([10, 25])\n",
      "torch.Size([10, 25])\n",
      "torch.Size([10, 25])\n",
      "torch.Size([10, 25])\n",
      "torch.Size([10, 25])\n",
      "torch.Size([10, 25])\n",
      "torch.Size([10, 25])\n",
      "torch.Size([10, 25])\n",
      "torch.Size([10, 25])\n",
      "torch.Size([10, 25])\n",
      "torch.Size([10, 25])\n",
      "torch.Size([10, 25])\n",
      "torch.Size([10, 25])\n",
      "torch.Size([10, 25])\n",
      "torch.Size([10, 25])\n",
      "torch.Size([10, 25])\n",
      "torch.Size([10, 25])\n",
      "torch.Size([10, 25])\n",
      "torch.Size([10, 25])\n",
      "torch.Size([10, 25])\n",
      "torch.Size([10, 25])\n",
      "torch.Size([10, 25])\n",
      "torch.Size([10, 25])\n",
      "torch.Size([10, 25])\n",
      "torch.Size([10, 25])\n",
      "torch.Size([10, 25])\n",
      "torch.Size([10, 25])\n",
      "torch.Size([10, 25])\n",
      "torch.Size([10, 25])\n",
      "torch.Size([10, 25])\n",
      "torch.Size([10, 25])\n",
      "torch.Size([10, 25])\n"
     ]
    }
   ],
   "source": [
    "for epoch in range(epochs):\n",
    "    states=(torch.zeros(num_layer,batch_size,hidden_size),\n",
    "            torch.zeros(num_layer,batch_size,hidden_size)) # hidden state and ,memory state\n",
    "    for i in range(0,rep_tensor.size(1)-timestep,timestep):\n",
    "        # print(i)\n",
    "        # print(timestep)\n",
    "        input=rep_tensor[:,i:i+timestep] # [batch,num-of_elemments] # input - i like guitar\n",
    "        target=rep_tensor[:,i+1:(i+1)+timestep] #[batch_size,i+1 element] #target - like guitar s (so)\n",
    "        print(input.shape)\n",
    "        # print(rep_tensor.shape)\n",
    "        # print(target.shape)\n",
    "        \n",
    "        out,_=model(input,states)\n",
    "        # print(out.shape)\n",
    "        # print(target.reshape(-1).shape)\n",
    "        loss=loss_fn(out,target.reshape(-1))\n",
    "        \n",
    "        model.zero_grad()\n",
    "        loss.backward()\n",
    "        \n",
    "        clip_grad_norm(model.parameters(),0.5)\n",
    "        \n",
    "        optim.step()\n",
    "        break\n",
    "        step=(i+1)//timestep\n",
    "        if step%100==0:\n",
    "            print(f'Epoch [{epoch+1}/{epochs}] , loss {loss.item():.4f}')\n",
    "    "
   ]
  },
  {
   "cell_type": "code",
   "execution_count": 13,
   "metadata": {},
   "outputs": [],
   "source": [
    "# with torch.no_grad():\n",
    "#     # with open('result_guitar_rnn.txt','w') as f:\n",
    "#         states=(torch.zeros(num_layer,1,hidden_size), # batch_size is 1\n",
    "#             torch.zeros(num_layer,1,hidden_size))\n",
    "#         # random no for testing starting from 0 to  vocab size and dimension is 1 and adding batch size\n",
    "#         input=torch.randint(0,vocab_size,(1,)).long().unsqueeze(1) \n",
    "#         print(input)\n",
    "#         for i in range(400):\n",
    "#             out,_=model(input,states)\n",
    "#             print(out.shape)\n",
    "#             # print(out)\n",
    "#             prob=out.exp()\n",
    "#             print(prob.shape)\n",
    "#             word_id=torch.multinomial(prob,num_samples=1).item()\n",
    "#             print(word_id)\n",
    "#             input.fill_(word_id) # replace inpuit for next word\n",
    "            \n",
    "#             print(input)\n",
    "            \n",
    "#             word=corpus.idx2word[word_id]\n",
    "#             print(word)\n",
    "#             word='\\n' if word =='<eos>' else word + ' '\n",
    "#             # f.write(word)\n",
    "#             if (i==2):\n",
    "#                 break\n",
    "#             if (i+1)%100==0:\n",
    "#                 print(f'sampled [{i+1}/{400} words and save to result_gutarrnn.txt]')\n",
    "              \n",
    "        "
   ]
  },
  {
   "cell_type": "code",
   "execution_count": 14,
   "metadata": {},
   "outputs": [
    {
     "data": {
      "text/plain": [
       "tensor([18])"
      ]
     },
     "execution_count": 14,
     "metadata": {},
     "output_type": "execute_result"
    }
   ],
   "source": [
    "input=torch.randint(0,vocab_size,(1,))\n",
    "input=input.long()#.unsqueeze(1)\n",
    "input"
   ]
  }
 ],
 "metadata": {
  "kernelspec": {
   "display_name": "gulshan",
   "language": "python",
   "name": "python3"
  },
  "language_info": {
   "codemirror_mode": {
    "name": "ipython",
    "version": 3
   },
   "file_extension": ".py",
   "mimetype": "text/x-python",
   "name": "python",
   "nbconvert_exporter": "python",
   "pygments_lexer": "ipython3",
   "version": "3.8.18"
  }
 },
 "nbformat": 4,
 "nbformat_minor": 2
}
